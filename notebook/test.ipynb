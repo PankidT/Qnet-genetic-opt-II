{
 "cells": [
  {
   "cell_type": "code",
   "execution_count": 2,
   "metadata": {},
   "outputs": [],
   "source": [
    "import numpy as np\n",
    "from dataclasses import dataclass\n",
    "from qwanta import Xperiment"
   ]
  },
  {
   "cell_type": "code",
   "execution_count": 5,
   "metadata": {},
   "outputs": [],
   "source": [
    "@dataclass\n",
    "class Loss_parameter:\n",
    "    \"\"\"Class for loss parameters\"\"\"\n",
    "    loss: float = 0\n",
    "    gate_error: float = 0\n",
    "    measurement_error: float = 0\n",
    "    memory_time: float = np.inf\n",
    "\n",
    "class QwantaSimulation:\n",
    "    \"\"\"\n",
    "    Class for Qwanta simulation:\n",
    "    This class create object for Qwanta simulation with given parameter set.\n",
    "    Also collect the fidelity history of the simulation.    \n",
    "    \"\"\"\n",
    "    def __init__(self, parameter_set: Loss_parameter, num_hops: int, network_generation='0G'):\n",
    "        self.parameter_set = parameter_set # change over generation\n",
    "        self.depo_prob = 0\n",
    "        self.network_generation = network_generation\n",
    "        self.num_hops = num_hops\n",
    "        self.num_nodes = self.num_hops + 1\n",
    "        self.node_info = {f'Node {i}': {'coordinate': (int(i*100), 0, 0)} for i in range(self.num_nodes)}\n",
    "        self.edge_info = {\n",
    "                    (f'Node {i}', f'Node {i+1}'): {\n",
    "                        'connection-type': 'Space',\n",
    "                        'depolarlizing error': [1 - self.depo_prob, self.depo_prob/3, self.depo_prob/3, self.depo_prob/3],\n",
    "                        'loss': parameter_set.loss,\n",
    "                        'light speed': 300000,\n",
    "                        'Pulse rate': 0.0001,\n",
    "                    f'Node {i}':{\n",
    "                        'gate error': parameter_set.gate_error,\n",
    "                        'measurement error': parameter_set.measurement_error,\n",
    "                        'memory function': parameter_set.memory_time\n",
    "                    },\n",
    "                    f'Node {i+1}':{\n",
    "                        'gate error': parameter_set.gate_error,\n",
    "                        'measurement error': parameter_set.measurement_error,\n",
    "                        'memory function': parameter_set.memory_time\n",
    "                    },\n",
    "                    }\n",
    "                for i in range(num_hops)}\n",
    "        \n",
    "        self.exps = Xperiment(\n",
    "            timelines_path = 'exper_id3_selectedStats_2hops.xlsx',\n",
    "            nodes_info_exp = self.node_info,\n",
    "            edges_info_exp = self.edge_info,\n",
    "            gate_error = parameter_set.gate_error,\n",
    "            measurement_error = parameter_set.measurement_error,\n",
    "            memory_time = parameter_set.memory_time,\n",
    "            strategies_list=[self.network_generation]\n",
    "            )\n",
    "        \n",
    "        self.fidelity_history = []\n",
    "\n",
    "        self.simulation_results = None\n",
    "        \n",
    "    def execute(self):\n",
    "        results = self.exps.execute()\n",
    "        self.fidelity_history.append(results[self.network_generation]['fidelity'])\n",
    "        self.simulation_results = results\n",
    "        return results\n"
   ]
  },
  {
   "cell_type": "code",
   "execution_count": 6,
   "metadata": {},
   "outputs": [],
   "source": [
    "parameter = Loss_parameter(loss=0.01, gate_error=0.01, measurement_error=0.01, memory_time=np.inf)"
   ]
  },
  {
   "cell_type": "code",
   "execution_count": 10,
   "metadata": {},
   "outputs": [],
   "source": [
    "simulation = QwantaSimulation(Loss_parameter, 2)\n",
    "obj = simulation.execute()"
   ]
  },
  {
   "cell_type": "code",
   "execution_count": 13,
   "metadata": {},
   "outputs": [
    {
     "data": {
      "text/plain": [
       "1.0"
      ]
     },
     "execution_count": 13,
     "metadata": {},
     "output_type": "execute_result"
    }
   ],
   "source": [
    "obj['0G']['fidelity']"
   ]
  },
  {
   "cell_type": "code",
   "execution_count": 3,
   "metadata": {},
   "outputs": [
    {
     "data": {
      "text/plain": [
       "array([0.58754913, 0.23161718, 0.45649804, 0.79205967])"
      ]
     },
     "execution_count": 3,
     "metadata": {},
     "output_type": "execute_result"
    }
   ],
   "source": [
    "dna_size = 4;\n",
    "\n",
    "np.array([np.random.rand() for i in range(dna_size)])"
   ]
  },
  {
   "cell_type": "code",
   "execution_count": 4,
   "metadata": {},
   "outputs": [
    {
     "data": {
      "text/plain": [
       "1"
      ]
     },
     "execution_count": 4,
     "metadata": {},
     "output_type": "execute_result"
    }
   ],
   "source": [
    "test = [1,2,3,4]\n",
    "min(test)"
   ]
  },
  {
   "cell_type": "code",
   "execution_count": null,
   "metadata": {},
   "outputs": [],
   "source": []
  }
 ],
 "metadata": {
  "kernelspec": {
   "display_name": "qnet_env",
   "language": "python",
   "name": "python3"
  },
  "language_info": {
   "codemirror_mode": {
    "name": "ipython",
    "version": 3
   },
   "file_extension": ".py",
   "mimetype": "text/x-python",
   "name": "python",
   "nbconvert_exporter": "python",
   "pygments_lexer": "ipython3",
   "version": "3.10.12"
  },
  "orig_nbformat": 4
 },
 "nbformat": 4,
 "nbformat_minor": 2
}
