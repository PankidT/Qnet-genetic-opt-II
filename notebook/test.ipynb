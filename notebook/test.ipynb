{
 "cells": [
  {
   "cell_type": "code",
   "execution_count": 11,
   "metadata": {},
   "outputs": [],
   "source": [
    "import numpy as np\n",
    "from dataclasses import dataclass\n",
    "from qwanta import Xperiment\n",
    "import math"
   ]
  },
  {
   "cell_type": "code",
   "execution_count": 5,
   "metadata": {},
   "outputs": [],
   "source": [
    "@dataclass\n",
    "class Loss_parameter:\n",
    "    \"\"\"Class for loss parameters\"\"\"\n",
    "    loss: float = 0\n",
    "    gate_error: float = 0\n",
    "    measurement_error: float = 0\n",
    "    memory_time: float = np.inf\n",
    "\n",
    "class QwantaSimulation:\n",
    "    \"\"\"\n",
    "    Class for Qwanta simulation:\n",
    "    This class create object for Qwanta simulation with given parameter set.\n",
    "    Also collect the fidelity history of the simulation.    \n",
    "    \"\"\"\n",
    "    def __init__(self, parameter_set: Loss_parameter, num_hops: int, network_generation='0G'):\n",
    "        self.parameter_set = parameter_set # change over generation\n",
    "        self.depo_prob = 0\n",
    "        self.network_generation = network_generation\n",
    "        self.num_hops = num_hops\n",
    "        self.num_nodes = self.num_hops + 1\n",
    "        self.node_info = {f'Node {i}': {'coordinate': (int(i*100), 0, 0)} for i in range(self.num_nodes)}\n",
    "        self.edge_info = {\n",
    "                    (f'Node {i}', f'Node {i+1}'): {\n",
    "                        'connection-type': 'Space',\n",
    "                        'depolarlizing error': [1 - self.depo_prob, self.depo_prob/3, self.depo_prob/3, self.depo_prob/3],\n",
    "                        'loss': parameter_set.loss,\n",
    "                        'light speed': 300000,\n",
    "                        'Pulse rate': 0.0001,\n",
    "                    f'Node {i}':{\n",
    "                        'gate error': parameter_set.gate_error,\n",
    "                        'measurement error': parameter_set.measurement_error,\n",
    "                        'memory function': parameter_set.memory_time\n",
    "                    },\n",
    "                    f'Node {i+1}':{\n",
    "                        'gate error': parameter_set.gate_error,\n",
    "                        'measurement error': parameter_set.measurement_error,\n",
    "                        'memory function': parameter_set.memory_time\n",
    "                    },\n",
    "                    }\n",
    "                for i in range(num_hops)}\n",
    "        \n",
    "        self.exps = Xperiment(\n",
    "            timelines_path = 'exper_id3_selectedStats_2hops.xlsx',\n",
    "            nodes_info_exp = self.node_info,\n",
    "            edges_info_exp = self.edge_info,\n",
    "            gate_error = parameter_set.gate_error,\n",
    "            measurement_error = parameter_set.measurement_error,\n",
    "            memory_time = parameter_set.memory_time,\n",
    "            strategies_list=[self.network_generation]\n",
    "            )\n",
    "        \n",
    "        self.fidelity_history = []\n",
    "\n",
    "        self.simulation_results = None\n",
    "        \n",
    "    def execute(self):\n",
    "        results = self.exps.execute()\n",
    "        self.fidelity_history.append(results[self.network_generation]['fidelity'])\n",
    "        self.simulation_results = results\n",
    "        return results\n"
   ]
  },
  {
   "cell_type": "code",
   "execution_count": 6,
   "metadata": {},
   "outputs": [],
   "source": [
    "parameter = Loss_parameter(loss=0.01, gate_error=0.01, measurement_error=0.01, memory_time=np.inf)"
   ]
  },
  {
   "cell_type": "code",
   "execution_count": 10,
   "metadata": {},
   "outputs": [],
   "source": [
    "simulation = QwantaSimulation(Loss_parameter, 2)\n",
    "obj = simulation.execute()"
   ]
  },
  {
   "cell_type": "code",
   "execution_count": 13,
   "metadata": {},
   "outputs": [
    {
     "data": {
      "text/plain": [
       "1.0"
      ]
     },
     "execution_count": 13,
     "metadata": {},
     "output_type": "execute_result"
    }
   ],
   "source": [
    "obj['0G']['fidelity']"
   ]
  },
  {
   "cell_type": "code",
   "execution_count": 3,
   "metadata": {},
   "outputs": [
    {
     "data": {
      "text/plain": [
       "array([0.58754913, 0.23161718, 0.45649804, 0.79205967])"
      ]
     },
     "execution_count": 3,
     "metadata": {},
     "output_type": "execute_result"
    }
   ],
   "source": [
    "dna_size = 4;\n",
    "\n",
    "np.array([np.random.rand() for i in range(dna_size)])"
   ]
  },
  {
   "cell_type": "code",
   "execution_count": 4,
   "metadata": {},
   "outputs": [
    {
     "data": {
      "text/plain": [
       "1"
      ]
     },
     "execution_count": 4,
     "metadata": {},
     "output_type": "execute_result"
    }
   ],
   "source": [
    "test = [1,2,3,4]\n",
    "min(test)"
   ]
  },
  {
   "cell_type": "code",
   "execution_count": 2,
   "metadata": {},
   "outputs": [
    {
     "data": {
      "text/plain": [
       "{'Node 0': {'coordinate': (0, 0, 0)},\n",
       " 'Node 1': {'coordinate': (100, 0, 0)},\n",
       " 'Node 2': {'coordinate': (200, 0, 0)}}"
      ]
     },
     "execution_count": 2,
     "metadata": {},
     "output_type": "execute_result"
    }
   ],
   "source": [
    "num_nodes = 3\n",
    "\n",
    "node_info = {f'Node {i}': {'coordinate': (int(i*100), 0, 0)} for i in range(num_nodes)}\n",
    "node_info"
   ]
  },
  {
   "cell_type": "code",
   "execution_count": 4,
   "metadata": {},
   "outputs": [
    {
     "data": {
      "text/plain": [
       "{'Node 0': {'coordinate': (0, 0, 0)},\n",
       " 'Node 1': {'coordinate': (100, 0, 0)},\n",
       " 'Node 2': {'coordinate': (200, 0, 0)}}"
      ]
     },
     "execution_count": 4,
     "metadata": {},
     "output_type": "execute_result"
    }
   ],
   "source": [
    "{\n",
    "    'Node 0': {'coordinate': (0, 0, 0)},\n",
    "    'Node 1': {'coordinate': (100, 0, 0)},\n",
    "    'Node 2': {'coordinate': (200, 0, 0)},\n",
    "}"
   ]
  },
  {
   "cell_type": "code",
   "execution_count": 10,
   "metadata": {},
   "outputs": [
    {
     "name": "stdout",
     "output_type": "stream",
     "text": [
      "{'Node 0': {'coordinate': [0, 0, 0]}, 'Node 1': {'coordinate': [100, 0, 0]}, 'Node 2': {'coordinate': [200, 0, 0]}}\n",
      "no\n"
     ]
    }
   ],
   "source": [
    "import json\n",
    "\n",
    "# JSON file\n",
    "with open('data.json', 'r') as file:\n",
    "    data = json.load(file)\n",
    "\n",
    "# 'data' is a Python dictionary containing the JSON data\n",
    "print(data)\n"
   ]
  },
  {
   "cell_type": "code",
   "execution_count": 14,
   "metadata": {},
   "outputs": [
    {
     "name": "stdout",
     "output_type": "stream",
     "text": [
      "X: -1130.36 km\n",
      "Y: 6083.92 km\n",
      "Z: 1515.86 km\n"
     ]
    }
   ],
   "source": [
    "# Function to convert degrees, minutes, and seconds to decimal degrees\n",
    "def dms_to_dd(degrees, minutes, seconds, direction):\n",
    "    dd = degrees + minutes/60 + seconds/3600\n",
    "    if direction in ['S', 'W']:\n",
    "        dd *= -1\n",
    "    return dd\n",
    "\n",
    "# Geographical coordinates\n",
    "latitude = \"13°45'52.9\\\"N\"\n",
    "longitude = \"100°31'31.5\\\"E\"\n",
    "\n",
    "# Parse latitude and longitude\n",
    "# lat_deg, lat_min, lat_sec, lat_dir = map(str.strip, latitude.replace(\"N\", \"\").replace(\"S\", \"\").split('°'))\n",
    "# lon_deg, lon_min, lon_sec, lon_dir = map(str.strip, longitude.replace(\"E\", \"\").replace(\"W\", \"\").split('°'))\n",
    "\n",
    "lat_dd = dms_to_dd(int(13), int(45), float(52), 9)\n",
    "lon_dd = dms_to_dd(int(100), int(31), float(31), 5)\n",
    "\n",
    "# Earth radius in kilometers (mean radius)\n",
    "earth_radius_km = 6371.0\n",
    "\n",
    "# Convert to XYZ coordinates\n",
    "x = earth_radius_km * math.cos(math.radians(lat_dd)) * math.cos(math.radians(lon_dd))\n",
    "y = earth_radius_km * math.cos(math.radians(lat_dd)) * math.sin(math.radians(lon_dd))\n",
    "z = earth_radius_km * math.sin(math.radians(lat_dd))\n",
    "\n",
    "# Print the XYZ coordinates\n",
    "print(f\"X: {x:.2f} km\")\n",
    "print(f\"Y: {y:.2f} km\")\n",
    "print(f\"Z: {z:.2f} km\")"
   ]
  },
  {
   "cell_type": "code",
   "execution_count": 15,
   "metadata": {},
   "outputs": [
    {
     "name": "stdout",
     "output_type": "stream",
     "text": [
      "X: -924.24 km\n",
      "Y: 5954.93 km\n",
      "Z: 2067.42 km\n"
     ]
    }
   ],
   "source": [
    "# Geographical coordinates\n",
    "latitude = \"18°56'08.7\\\"N\"\n",
    "longitude = \"98°49'20.8\\\"E\"\n",
    "\n",
    "# Parse latitude and longitude\n",
    "# lat_deg, lat_min, lat_sec, lat_dir = map(str.strip, latitude.replace(\"N\", \"\").replace(\"S\", \"\").split('°'))\n",
    "# lon_deg, lon_min, lon_sec, lon_dir = map(str.strip, longitude.replace(\"E\", \"\").replace(\"W\", \"\").split('°'))\n",
    "\n",
    "lat_dd = dms_to_dd(int(18), int(56), float(8), 7)\n",
    "lon_dd = dms_to_dd(int(98), int(49), float(20), 8)\n",
    "\n",
    "# Earth radius in kilometers (mean radius)\n",
    "earth_radius_km = 6371.0\n",
    "\n",
    "# Convert to XYZ coordinates\n",
    "x = earth_radius_km * math.cos(math.radians(lat_dd)) * math.cos(math.radians(lon_dd))\n",
    "y = earth_radius_km * math.cos(math.radians(lat_dd)) * math.sin(math.radians(lon_dd))\n",
    "z = earth_radius_km * math.sin(math.radians(lat_dd))\n",
    "\n",
    "# Print the XYZ coordinates\n",
    "print(f\"X: {x:.2f} km\")\n",
    "print(f\"Y: {y:.2f} km\")\n",
    "print(f\"Z: {z:.2f} km\")\n",
    "    "
   ]
  },
  {
   "cell_type": "code",
   "execution_count": 21,
   "metadata": {},
   "outputs": [
    {
     "data": {
      "text/plain": [
       "602.7821741305866"
      ]
     },
     "execution_count": 21,
     "metadata": {},
     "output_type": "execute_result"
    }
   ],
   "source": [
    "from dataclasses import dataclass\n",
    "\n",
    "@dataclass\n",
    "class Location:\n",
    "    \"\"\"Class for loss parameters\"\"\"\n",
    "    lat_deg: int\n",
    "    lat_min: int\n",
    "    lat_sec: float\n",
    "    lat_dir: str\n",
    "    lon_deg: int\n",
    "    lon_min: int\n",
    "    lon_sec: float\n",
    "    lon_dir: str\n",
    "\n",
    "def cal_relative_distance(node1: Location, node2: Location):\n",
    "\n",
    "    # Function to convert degrees, minutes, and seconds to decimal degrees\n",
    "    def dms_to_dd(degrees, minutes, seconds, direction):\n",
    "        dd = degrees + minutes/60 + seconds/3600\n",
    "        if direction in ['S', 'W']:\n",
    "            dd *= -1\n",
    "        return dd\n",
    "\n",
    "    lat_dd_1 = dms_to_dd(node1.lat_deg, node1.lat_min, node1.lat_sec, node1.lat_dir)\n",
    "    lon_dd_1 = dms_to_dd(node1.lon_deg, node1.lon_min, node1.lon_sec, node1.lon_dir)\n",
    "    lat_dd_2 = dms_to_dd(node2.lat_deg, node2.lat_min, node2.lat_sec, node2.lat_dir)\n",
    "    lon_dd_2 = dms_to_dd(node2.lon_deg, node2.lon_min, node2.lon_sec, node2.lon_dir)\n",
    "\n",
    "    earth_radius_km = 6371.0\n",
    "\n",
    "    x_1 = earth_radius_km * math.cos(math.radians(lat_dd_1)) * math.cos(math.radians(lon_dd_1))\n",
    "    y_1 = earth_radius_km * math.cos(math.radians(lat_dd_1)) * math.sin(math.radians(lon_dd_1))\n",
    "    z_1 = earth_radius_km * math.sin(math.radians(lat_dd_1))\n",
    "    \n",
    "    x_2 = earth_radius_km * math.cos(math.radians(lat_dd_2)) * math.cos(math.radians(lon_dd_2))\n",
    "    y_2 = earth_radius_km * math.cos(math.radians(lat_dd_2)) * math.sin(math.radians(lon_dd_2))\n",
    "    z_2 = earth_radius_km * math.sin(math.radians(lat_dd_2))\n",
    "\n",
    "    return math.sqrt((x_1-x_2)**2 + (y_1-y_2)**2 + (z_1-z_2)**2)\n",
    "\n",
    "def convert_ll_to_xyz(node: Location):\n",
    "    lat_dd = dms_to_dd(node.lat_deg, node.lat_min, node.lat_sec, node.lat_dir)\n",
    "    lon_dd = dms_to_dd(node.lon_deg, node.lon_min, node.lon_sec, node.lon_dir)\n",
    "\n",
    "    # Earth radius in kilometers (mean radius)\n",
    "    earth_radius_km = 6371.0\n",
    "\n",
    "    # Convert to XYZ coordinates\n",
    "    x = earth_radius_km * math.cos(math.radians(lat_dd)) * math.cos(math.radians(lon_dd))\n",
    "    y = earth_radius_km * math.cos(math.radians(lat_dd)) * math.sin(math.radians(lon_dd))\n",
    "    z = earth_radius_km * math.sin(math.radians(lat_dd))\n",
    "\n",
    "    return x, y, z\n",
    "\n",
    "\n",
    "\n",
    "node1 = Location(lat_deg=13, lat_min=45, lat_sec=52, lat_dir=9, lon_deg=100, lon_min=31, lon_sec=31, lon_dir=5) # Bangkok\n",
    "node2 = Location(lat_deg=18, lat_min=56, lat_sec=8, lat_dir=7, lon_deg=98, lon_min=49, lon_sec=20, lon_dir=8) # Chiang Mai\n",
    "\n",
    "cal_relative_distance(node1, node2)\n",
    "\n",
    "\n",
    "    "
   ]
  },
  {
   "cell_type": "code",
   "execution_count": 22,
   "metadata": {},
   "outputs": [
    {
     "name": "stdout",
     "output_type": "stream",
     "text": [
      "-1130.3646412592602 6083.920993984433 1515.8568919084312\n"
     ]
    }
   ],
   "source": [
    "x_bkk, y_bkk, z_bkk = convert_ll_to_xyz(Location(lat_deg=13, lat_min=45, lat_sec=52, lat_dir=9, lon_deg=100, lon_min=31, lon_sec=31, lon_dir=5))\n",
    "print(x_bkk, y_bkk, z_bkk)"
   ]
  }
 ],
 "metadata": {
  "kernelspec": {
   "display_name": "qnet_env",
   "language": "python",
   "name": "python3"
  },
  "language_info": {
   "codemirror_mode": {
    "name": "ipython",
    "version": 3
   },
   "file_extension": ".py",
   "mimetype": "text/x-python",
   "name": "python",
   "nbconvert_exporter": "python",
   "pygments_lexer": "ipython3",
   "version": "3.10.12"
  },
  "orig_nbformat": 4
 },
 "nbformat": 4,
 "nbformat_minor": 2
}
