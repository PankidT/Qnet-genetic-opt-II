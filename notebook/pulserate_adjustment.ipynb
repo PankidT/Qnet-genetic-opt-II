{
 "cells": [
  {
   "cell_type": "code",
   "execution_count": 1,
   "metadata": {},
   "outputs": [],
   "source": [
    "%reload_ext autoreload\n",
    "%autoreload 2\n",
    "\n",
    "from qwanta import Tuner, QuantumNetwork, Configuration, Xperiment\n",
    "from qwanta import QuantumNetwork, Configuration, Xperiment, Tuner\n",
    "import pandas as pd\n",
    "import ast\n",
    "import numpy as np\n",
    "import networkx as nx\n",
    "from qwanta.Qubit import PhysicalQubit\n",
    "import seaborn as sns\n",
    "import matplotlib.pyplot as plt"
   ]
  },
  {
   "cell_type": "code",
   "execution_count": 2,
   "metadata": {},
   "outputs": [
    {
     "data": {
      "text/plain": [
       "[0.0001, 0.0031622776601683794, 0.001, 0.000316227766016838]"
      ]
     },
     "execution_count": 2,
     "metadata": {},
     "output_type": "execute_result"
    }
   ],
   "source": [
    "def adjusted_rate(rl, dl, ds, loss=0.1):\n",
    "    return rl*10**((dl - ds)*loss/10)\n",
    "\n",
    "minimal_edges_infos = [(0.0001, 100, 100), (0.0001, 175, 25), \n",
    "                       (0.0001, 150, 50) ,(0.0001, 125, 75)]\n",
    "adjusted_rate_list = [adjusted_rate(*i) for i in minimal_edges_infos]\n",
    "\n",
    "adjusted_rate_list"
   ]
  },
  {
   "cell_type": "code",
   "execution_count": 3,
   "metadata": {},
   "outputs": [],
   "source": [
    "# Hyperparameters\n",
    "\n",
    "loss = 0.1 # dB/km\n",
    "depo_prob = 0\n",
    "gate_error = 0.1 \n",
    "measurement_error = 0\n",
    "memory_time = 1 # second\n",
    "\n",
    "num_hops = 2\n",
    "num_nodes = num_hops + 1\n",
    "\n",
    "# 3 Equidistant nodes\n",
    "# node_info = {f'Node {i}': {'coordinate': (int(i*100), 0, 0)} for i in range(num_nodes)}\n",
    "\n",
    "# 3 non-equidistant nodes\n",
    "node_info = {'Node 0': {'coordinate': (0, 0, 0)},\n",
    " 'Node 1': {'coordinate': (50, 0, 0)},\n",
    " 'Node 2': {'coordinate': (200, 0, 0)}}\n",
    "\n",
    "# # default edge info\n",
    "# edge_info = {\n",
    "#     (f'Node {i}', f'Node {i+1}'): {\n",
    "#     'connection-type': 'Space',\n",
    "#     'depolarlizing error': [1 - depo_prob, depo_prob/3, depo_prob/3, depo_prob/3],\n",
    "#     'loss': loss,\n",
    "#     'light speed': 300000,\n",
    "#     'Pulse rate': 0.0001,\n",
    "#     f'Node {i}':{\n",
    "#         'gate error': gate_error,\n",
    "#         'measurement error': measurement_error,\n",
    "#         'memory function': memory_time\n",
    "#     },\n",
    "#     f'Node {i+1}':{\n",
    "#         'gate error': gate_error,\n",
    "#         'measurement error': measurement_error,\n",
    "#         'memory function': memory_time\n",
    "#     },\n",
    "#     }\n",
    "# for i in range(num_hops)}\n",
    "\n",
    "# edge with adjust pulse rate\n",
    "edge_info = {('Node 0', 'Node 1'): \n",
    "        {'connection-type': 'Space',\n",
    "        'depolarlizing error': [1, 0.0, 0.0, 0.0],\n",
    "        'loss': 0.1,\n",
    "        'light speed': 300000,\n",
    "        'Pulse rate': adjusted_rate(0.0001, 150, 50, loss=loss),\n",
    "        'Node 0': {'gate error': 0.1, 'measurement error': 0, 'memory function': 1},\n",
    "        'Node 1': {'gate error': 0.1, 'measurement error': 0, 'memory function': 1}},\n",
    "\n",
    "        ('Node 1', 'Node 2'): {'connection-type': 'Space',\n",
    "        'depolarlizing error': [1, 0.0, 0.0, 0.0],\n",
    "        'loss': 0.1,\n",
    "        'light speed': 300000,\n",
    "        'Pulse rate': 0.0001,\n",
    "        'Node 1': {'gate error': 0.1, 'measurement error': 0, 'memory function': 1},\n",
    "        'Node 2': {'gate error': 0.1, 'measurement error': 0, 'memory function': 1}}}\n",
    "\n",
    "exps = Xperiment(\n",
    "    timelines_path = 'exper_id3_selectedStats_2hops.xlsx',\n",
    "    nodes_info_exp = node_info,\n",
    "    edges_info_exp = edge_info,\n",
    "    gate_error = gate_error,\n",
    "    measurement_error = measurement_error,\n",
    "    memory_time = memory_time,\n",
    "    strategies_list=['0G']\n",
    ")\n",
    "\n",
    "results = exps.execute()"
   ]
  },
  {
   "cell_type": "code",
   "execution_count": 15,
   "metadata": {},
   "outputs": [],
   "source": [
    "def visualize(result):\n",
    "    to_print = ['fidelity', 'simulation_time', 'Resources Produced', 'Base Resources Attempt', 'Resource Used in Fidelity Estimation', 'Time used', 'Fidelity Estimation Time']\n",
    "    # to_print = ['fidelity', 'Base Resources Attempt', 'Fidelity Estimation Time']\n",
    "    for key in to_print:\n",
    "        print(f'{key}: {result[key]}')\n"
   ]
  },
  {
   "cell_type": "code",
   "execution_count": 16,
   "metadata": {},
   "outputs": [
    {
     "name": "stdout",
     "output_type": "stream",
     "text": [
      "fidelity: 0.7951666666666666\n",
      "simulation_time: None\n",
      "Resources Produced: {'Node 0-Node 1': {'Physical': 9001}, 'Node 1-Node 2': {'Physical': 9003}, 'Node 0-Node 2': {'k': 9001}}\n",
      "Base Resources Attempt: 309690\n",
      "Resource Used in Fidelity Estimation: 9000\n",
      "Time used: 28.675933333319115\n",
      "Fidelity Estimation Time: 28.674933333319114\n"
     ]
    }
   ],
   "source": [
    "visualize(results['0G'])"
   ]
  },
  {
   "cell_type": "code",
   "execution_count": 25,
   "metadata": {},
   "outputs": [
    {
     "data": {
      "text/plain": [
       "156.92875318369724"
      ]
     },
     "execution_count": 25,
     "metadata": {},
     "output_type": "execute_result"
    }
   ],
   "source": [
    "throughput = 9000/(results['0G']['Time used'] + results['0G']['Fidelity Estimation Time'])\n",
    "throughput"
   ]
  },
  {
   "cell_type": "code",
   "execution_count": 6,
   "metadata": {},
   "outputs": [
    {
     "data": {
      "text/html": [
       "<div>\n",
       "<style scoped>\n",
       "    .dataframe tbody tr th:only-of-type {\n",
       "        vertical-align: middle;\n",
       "    }\n",
       "\n",
       "    .dataframe tbody tr th {\n",
       "        vertical-align: top;\n",
       "    }\n",
       "\n",
       "    .dataframe thead th {\n",
       "        text-align: right;\n",
       "    }\n",
       "</style>\n",
       "<table border=\"1\" class=\"dataframe\">\n",
       "  <thead>\n",
       "    <tr style=\"text-align: right;\">\n",
       "      <th></th>\n",
       "      <th>Experiment name</th>\n",
       "      <th>Fidelity</th>\n",
       "      <th>Base Resources Attempt</th>\n",
       "      <th>Fidelity Estimation Time</th>\n",
       "    </tr>\n",
       "  </thead>\n",
       "  <tbody>\n",
       "    <tr>\n",
       "      <th>0</th>\n",
       "      <td>Equidistant nodes</td>\n",
       "      <td>0.8130</td>\n",
       "      <td>179439</td>\n",
       "      <td>9.232367</td>\n",
       "    </tr>\n",
       "    <tr>\n",
       "      <th>1</th>\n",
       "      <td>Non-equidistant nodes 50, 200</td>\n",
       "      <td>0.7670</td>\n",
       "      <td>307780</td>\n",
       "      <td>27.977500</td>\n",
       "    </tr>\n",
       "    <tr>\n",
       "      <th>2</th>\n",
       "      <td>Non-equidistant nodes 50, 200, adjusted pulse ...</td>\n",
       "      <td>0.7815</td>\n",
       "      <td>315801</td>\n",
       "      <td>29.508233</td>\n",
       "    </tr>\n",
       "  </tbody>\n",
       "</table>\n",
       "</div>"
      ],
      "text/plain": [
       "                                     Experiment name  Fidelity  \\\n",
       "0                                  Equidistant nodes    0.8130   \n",
       "1                      Non-equidistant nodes 50, 200    0.7670   \n",
       "2  Non-equidistant nodes 50, 200, adjusted pulse ...    0.7815   \n",
       "\n",
       "   Base Resources Attempt  Fidelity Estimation Time  \n",
       "0                  179439                  9.232367  \n",
       "1                  307780                 27.977500  \n",
       "2                  315801                 29.508233  "
      ]
     },
     "execution_count": 6,
     "metadata": {},
     "output_type": "execute_result"
    }
   ],
   "source": [
    "data = {\n",
    "    'Experiment name': [\n",
    "        'Equidistant nodes', \n",
    "        'Non-equidistant nodes 50, 200', \n",
    "        'Non-equidistant nodes 50, 200, adjusted pulse rate'\n",
    "        \n",
    "        ],\n",
    "    'Fidelity': [\n",
    "        0.813, \n",
    "        0.7670000000000001, \n",
    "        0.7815000000000001\n",
    "        ],\n",
    "    'Base Resources Attempt': [\n",
    "        179439, 307780, 315801],\n",
    "    'Fidelity Estimation Time': [\n",
    "        9.232366666658779, \n",
    "        27.977499999948133,\n",
    "        29.50823333332347\n",
    "        ]\n",
    "}\n",
    "\n",
    "df = pd.DataFrame(data)\n",
    "df"
   ]
  },
  {
   "cell_type": "code",
   "execution_count": null,
   "metadata": {},
   "outputs": [],
   "source": []
  }
 ],
 "metadata": {
  "kernelspec": {
   "display_name": "qnet_env",
   "language": "python",
   "name": "python3"
  },
  "language_info": {
   "codemirror_mode": {
    "name": "ipython",
    "version": 3
   },
   "file_extension": ".py",
   "mimetype": "text/x-python",
   "name": "python",
   "nbconvert_exporter": "python",
   "pygments_lexer": "ipython3",
   "version": "3.10.12"
  },
  "orig_nbformat": 4
 },
 "nbformat": 4,
 "nbformat_minor": 2
}
