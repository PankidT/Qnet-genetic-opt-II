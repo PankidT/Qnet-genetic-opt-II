{
 "cells": [
  {
   "cell_type": "code",
   "execution_count": 1,
   "metadata": {},
   "outputs": [],
   "source": [
    "%reload_ext autoreload\n",
    "%autoreload 2\n",
    "\n",
    "from qwanta import Tuner, QuantumNetwork, Configuration, Xperiment\n",
    "from qwanta import QuantumNetwork, Configuration, Xperiment, Tuner\n",
    "import pandas as pd\n",
    "import ast\n",
    "import numpy as np\n",
    "import networkx as nx\n",
    "from qwanta.Qubit import PhysicalQubit\n",
    "import seaborn as sns\n",
    "import matplotlib.pyplot as plt"
   ]
  },
  {
   "attachments": {},
   "cell_type": "markdown",
   "metadata": {},
   "source": [
    "### Define configuration and read the network timeline\n",
    "\n",
    "As of current implementation, the timeline should be format as in csv or excel file to let Xperiment to be able to read it.\n",
    "However, Xperiment is just a class wrapping that does the validation of the timeline and the network, so you can use any other format as long as you can read it and pass it to the Xperiment class."
   ]
  },
  {
   "cell_type": "code",
   "execution_count": 83,
   "metadata": {},
   "outputs": [
    {
     "data": {
      "text/plain": [
       "[0.0001, 0.0031622776601683794, 0.001, 0.000316227766016838]"
      ]
     },
     "execution_count": 83,
     "metadata": {},
     "output_type": "execute_result"
    }
   ],
   "source": [
    "def adjusted_rate(rl, dl, ds, loss=0.1):\n",
    "    return rl*10**((dl - ds)*loss/10)\n",
    "\n",
    "minimal_edges_infos = [(0.0001, 100, 100), (0.0001, 175, 25), \n",
    "                       (0.0001, 150, 50) ,(0.0001, 125, 75)]\n",
    "adjusted_rate_list = [adjusted_rate(*i) for i in minimal_edges_infos]\n",
    "\n",
    "adjusted_rate_list"
   ]
  },
  {
   "cell_type": "code",
   "execution_count": 6,
   "metadata": {},
   "outputs": [],
   "source": [
    "# Hyperparameters\n",
    "\n",
    "loss = 0.03 # dB/km\n",
    "depo_prob = 0.025\n",
    "gate_error = 0.0\n",
    "measurement_error = 0.0\n",
    "memory_time = 0.01 # second\n",
    "\n",
    "num_hops = 2\n",
    "num_nodes = num_hops + 1\n",
    "\n",
    "# 3 Equidistant nodes\n",
    "node_info = {f'Node {i}': {'coordinate': (int(i*100), 0, 0)} for i in range(num_nodes)}\n",
    "\n",
    "# 3 non-equidistant nodes\n",
    "# node_info = {'Node 0': {'coordinate': (0, 0, 0)},\n",
    "#  'Node 1': {'coordinate': (50, 0, 0)},\n",
    "#  'Node 2': {'coordinate': (200, 0, 0)}}\n",
    "\n",
    "# default edge info\n",
    "edge_info = {\n",
    "    (f'Node {i}', f'Node {i+1}'): {\n",
    "    'connection-type': 'Space',\n",
    "    'depolarlizing error': [1 - depo_prob, depo_prob/3, depo_prob/3, depo_prob/3],\n",
    "    'loss': loss,\n",
    "    'light speed': 300000,\n",
    "    'Pulse rate': 0.00001,\n",
    "    f'Node {i}':{\n",
    "        'gate error': gate_error,\n",
    "        'measurement error': measurement_error,\n",
    "        'memory function': memory_time\n",
    "    },\n",
    "    f'Node {i+1}':{\n",
    "        'gate error': gate_error,\n",
    "        'measurement error': measurement_error,\n",
    "        'memory function': memory_time\n",
    "    },\n",
    "    }\n",
    "for i in range(num_hops)}\n",
    "\n",
    "# edge with adjust pulse rate\n",
    "# edge_info = {('Node 0', 'Node 1'): \n",
    "#         {'connection-type': 'Space',\n",
    "#         'depolarlizing error': [1, 0.0, 0.0, 0.0],\n",
    "#         'loss': 0.1,\n",
    "#         'light speed': 300000,\n",
    "#         'Pulse rate': adjusted_rate(0.0001, 150, 50, loss=loss),\n",
    "#         'Node 0': {'gate error': 0.1, 'measurement error': 0, 'memory function': 1},\n",
    "#         'Node 1': {'gate error': 0.1, 'measurement error': 0, 'memory function': 1}},\n",
    "\n",
    "#         ('Node 1', 'Node 2'): {'connection-type': 'Space',\n",
    "#         'depolarlizing error': [1, 0.0, 0.0, 0.0],\n",
    "#         'loss': 0.1,\n",
    "#         'light speed': 300000,\n",
    "#         'Pulse rate': 1e-04,\n",
    "#         'Node 1': {'gate error': 0.1, 'measurement error': 0, 'memory function': 1},\n",
    "#         'Node 2': {'gate error': 0.1, 'measurement error': 0, 'memory function': 1}}}\n",
    "\n",
    "exps = Xperiment(\n",
    "    timelines_path = 'network/exper_id3_selectedStats_2hops.xlsx',\n",
    "    nodes_info_exp = node_info,\n",
    "    edges_info_exp = edge_info,\n",
    "    gate_error = gate_error,\n",
    "    measurement_error = measurement_error,\n",
    "    memory_time = memory_time,\n",
    "    strategies_list=['0G']\n",
    ")"
   ]
  },
  {
   "attachments": {},
   "cell_type": "markdown",
   "metadata": {},
   "source": [
    "### To validate the experiment configuration, and network topology\n",
    "\n",
    "You can validate the experiment configuration and network topology by running the following command. \n",
    "If vis is set to True, the network topology will be visualized using pyvis library, you could see the network topology in the browser using the generated html file.\n",
    "If get_table is set to True, the network topology will be printed in table format show the summary of validation.\n",
    "If show_message is set to True, the validation message will be printed."
   ]
  },
  {
   "cell_type": "code",
   "execution_count": 59,
   "metadata": {},
   "outputs": [],
   "source": [
    "# exps.validate(get_table=True, vis=True)"
   ]
  },
  {
   "attachments": {},
   "cell_type": "markdown",
   "metadata": {},
   "source": [
    "### To run the experiment\n",
    "You could run the experiment by running the following command.\n",
    "Set save_result to True to save the experiment result to the experiment result folder."
   ]
  },
  {
   "cell_type": "code",
   "execution_count": 7,
   "metadata": {},
   "outputs": [],
   "source": [
    "results = exps.execute()"
   ]
  },
  {
   "attachments": {},
   "cell_type": "markdown",
   "metadata": {},
   "source": [
    "### Let us see the result of 0G experiment\n",
    "The result dictionary contains the following keys:"
   ]
  },
  {
   "cell_type": "code",
   "execution_count": 8,
   "metadata": {},
   "outputs": [
    {
     "data": {
      "text/plain": [
       "['numPhysicalBuffer',\n",
       " 'numInternalEncodingBuffer',\n",
       " 'numInternalDetectingBuffer',\n",
       " 'numInternalInterfaceBuffer',\n",
       " 'memory_function',\n",
       " 'gate_error',\n",
       " 'measurement_error',\n",
       " 'timeline',\n",
       " 'experiment',\n",
       " 'light_speed_in_fiber',\n",
       " 'message',\n",
       " 'g',\n",
       " 'result_path',\n",
       " 'label_recorded',\n",
       " 'collectFidelityHistory',\n",
       " 'simulation_time',\n",
       " 'coor_system',\n",
       " 'nodes_info',\n",
       " 'NetworkTopology',\n",
       " 'throughtputEdges',\n",
       " 'fidelity',\n",
       " 'Resources Produced',\n",
       " 'Base Resources Attempt',\n",
       " 'Resource Used in Fidelity Estimation',\n",
       " 'Time used',\n",
       " 'Fidelity Estimation Time',\n",
       " 'Fidelity History',\n",
       " 'Commutation inforamtion',\n",
       " 'Simulation log']"
      ]
     },
     "execution_count": 8,
     "metadata": {},
     "output_type": "execute_result"
    }
   ],
   "source": [
    "all_keys = []\n",
    "for key in results['0G'].keys():\n",
    "    # print(key)\n",
    "    if key != 'Qubits waiting time':\n",
    "        all_keys.append(key)\n",
    "    else:\n",
    "        pass\n",
    "\n",
    "all_keys"
   ]
  },
  {
   "cell_type": "code",
   "execution_count": 9,
   "metadata": {},
   "outputs": [],
   "source": [
    "def visualize(result):\n",
    "    # to_print = ['fidelity', 'simulation_time', 'Resources Produced', 'Base Resources Attempt', 'Resource Used in Fidelity Estimation', 'Time used', 'Fidelity Estimation Time']\n",
    "    # to_print = ['fidelity', 'Base Resources Attempt', 'Fidelity Estimation Time', 'Time used']\n",
    "    to_print = all_keys\n",
    "    for key in to_print:\n",
    "        print(f'{key}: {result[key]}')\n"
   ]
  },
  {
   "cell_type": "code",
   "execution_count": 11,
   "metadata": {},
   "outputs": [
    {
     "name": "stdout",
     "output_type": "stream",
     "text": [
      "numPhysicalBuffer: 20\n",
      "numInternalEncodingBuffer: 20\n",
      "numInternalDetectingBuffer: 10\n",
      "numInternalInterfaceBuffer: 2\n",
      "memory_function: <function Xperiment.__init__.<locals>.memory_error_function at 0x158cc6c20>\n",
      "gate_error: 0.0\n",
      "measurement_error: 0.0\n",
      "timeline: [{'Main Process': 'Generate physical Bell pair', 'Edges': ['Node 0', 'Node 1'], 'Num Trials': True, 'Label in': 'Physical Qubit', 'Label out': 'Physical', 'Resource Type': nan, 'Protocol': nan, 'Note': nan, 'Schedule Config': None, 'isSuccess': 0}, {'Main Process': 'Generate physical Bell pair', 'Edges': ['Node 1', 'Node 2'], 'Num Trials': True, 'Label in': 'Physical Qubit', 'Label out': 'Physical', 'Resource Type': nan, 'Protocol': nan, 'Note': nan, 'Schedule Config': None, 'isSuccess': 0}, {'Main Process': 'Entanglement swapping', 'Edges': ['Node 0', 'Node 1', 'Node 2'], 'Num Trials': True, 'Label in': 'Physical', 'Label out': 'k', 'Resource Type': 'Physical', 'Protocol': nan, 'Note': nan, 'isSuccess': 0}, {'Main Process': 'State tomography', 'Edges': ['Node 0', 'Node 2'], 'Num Trials': 9000, 'Label in': 'k', 'Label out': 'Physical Qubit', 'Resource Type': 'Physical', 'Protocol': nan, 'Note': nan, 'isSuccess': 9001}]\n",
      "experiment: None\n",
      "light_speed_in_fiber: 208189.206944\n",
      "message: 0G\n",
      "g: {('Node 0', 'Node 1'): {'connection-type': 'Space', 'depolarlizing error': [0.975, 0.008333333333333333, 0.008333333333333333, 0.008333333333333333], 'loss': 0.03, 'light speed': 300000, 'Pulse rate': 1e-05, 'Node 0': {'gate error': 0.0, 'measurement error': 0.0, 'memory function': <function Configuration.__init__.<locals>.memory_error_function at 0x158cc7520>}, 'Node 1': {'gate error': 0.0, 'measurement error': 0.0, 'memory function': <function Configuration.__init__.<locals>.memory_error_function at 0x158cc75b0>}}, ('Node 1', 'Node 2'): {'connection-type': 'Space', 'depolarlizing error': [0.975, 0.008333333333333333, 0.008333333333333333, 0.008333333333333333], 'loss': 0.03, 'light speed': 300000, 'Pulse rate': 1e-05, 'Node 1': {'gate error': 0.0, 'measurement error': 0.0, 'memory function': <function Configuration.__init__.<locals>.memory_error_function at 0x158cc7640>}, 'Node 2': {'gate error': 0.0, 'measurement error': 0.0, 'memory function': <function Configuration.__init__.<locals>.memory_error_function at 0x158cc76d0>}}}\n",
      "result_path: result\n",
      "label_recorded: ['Physical Qubit', 'Physical', 'k']\n",
      "collectFidelityHistory: False\n",
      "simulation_time: None\n",
      "coor_system: normal\n",
      "nodes_info: {'numPhysicalBuffer': 20, 'numInternalEncodingBuffer': 20, 'numInternalDetectingBuffer': 10, 'numInternalInterfaceBuffer': 2, 'Node 0': {'coordinate': (0, 0, 0)}, 'Node 1': {'coordinate': (100, 0, 0)}, 'Node 2': {'coordinate': (200, 0, 0)}}\n",
      "NetworkTopology: Graph with 3 nodes and 2 edges\n",
      "throughtputEdges: ['Node 0', 'Node 2']\n",
      "fidelity: 0.7473333333333333\n",
      "Resources Produced: {'Node 1-Node 2': {'Physical': 9004}, 'Node 0-Node 1': {'Physical': 9006}, 'Node 0-Node 2': {'k': 9001}}\n",
      "Base Resources Attempt: 36195\n",
      "Resource Used in Fidelity Estimation: 9000\n",
      "Time used: 0.9596066666666251\n",
      "Fidelity Estimation Time: 0.9595966666666251\n",
      "Fidelity History: []\n",
      "Commutation inforamtion: {'XX': {'commute': 2488, 'anti-commute': 512}, 'YY': {'commute': 2470, 'anti-commute': 530}, 'ZZ': {'commute': 2526, 'anti-commute': 474}}\n",
      "Simulation log: [{'Time': 0, 'Message': 'Send connection request from Node 0 to Node 2'}, {'Time': 0.0006666666666666666, 'Message': 'Return RuleSet request from Node 2 to Node 0'}, {'Time': 0.0013333333333333333, 'Message': 'Process RuleSet of Node 0 and Node 2'}]\n"
     ]
    }
   ],
   "source": [
    "visualize(results['0G'])"
   ]
  },
  {
   "cell_type": "code",
   "execution_count": 102,
   "metadata": {},
   "outputs": [
    {
     "data": {
      "text/plain": [
       "1297.984566482855"
      ]
     },
     "execution_count": 102,
     "metadata": {},
     "output_type": "execute_result"
    }
   ],
   "source": [
    "9000/(results['1-2G-DirectedEncoded']['Time used']+results['1-2G-DirectedEncoded']['Fidelity Estimation Time'])"
   ]
  },
  {
   "cell_type": "code",
   "execution_count": 53,
   "metadata": {},
   "outputs": [
    {
     "data": {
      "text/html": [
       "<div>\n",
       "<style scoped>\n",
       "    .dataframe tbody tr th:only-of-type {\n",
       "        vertical-align: middle;\n",
       "    }\n",
       "\n",
       "    .dataframe tbody tr th {\n",
       "        vertical-align: top;\n",
       "    }\n",
       "\n",
       "    .dataframe thead th {\n",
       "        text-align: right;\n",
       "    }\n",
       "</style>\n",
       "<table border=\"1\" class=\"dataframe\">\n",
       "  <thead>\n",
       "    <tr style=\"text-align: right;\">\n",
       "      <th></th>\n",
       "      <th>Experiment name</th>\n",
       "      <th>Fidelity</th>\n",
       "      <th>Base Resources Attempt</th>\n",
       "      <th>Fidelity Estimation Time</th>\n",
       "    </tr>\n",
       "  </thead>\n",
       "  <tbody>\n",
       "    <tr>\n",
       "      <th>0</th>\n",
       "      <td>Equidistant nodes</td>\n",
       "      <td>0.817667</td>\n",
       "      <td>180644</td>\n",
       "      <td>3.577103</td>\n",
       "    </tr>\n",
       "    <tr>\n",
       "      <th>1</th>\n",
       "      <td>Non-equidistant nodes</td>\n",
       "      <td>0.796667</td>\n",
       "      <td>313271</td>\n",
       "      <td>14.684520</td>\n",
       "    </tr>\n",
       "    <tr>\n",
       "      <th>2</th>\n",
       "      <td>Non-equidistant nodes, adjust pulse rate (1e-0...</td>\n",
       "      <td>0.783833</td>\n",
       "      <td>312074</td>\n",
       "      <td>14.625501</td>\n",
       "    </tr>\n",
       "    <tr>\n",
       "      <th>3</th>\n",
       "      <td>Non-equidistant nodes, adjust pulse rate (1e-0...</td>\n",
       "      <td>0.804333</td>\n",
       "      <td>311333</td>\n",
       "      <td>28.466833</td>\n",
       "    </tr>\n",
       "  </tbody>\n",
       "</table>\n",
       "</div>"
      ],
      "text/plain": [
       "                                     Experiment name  Fidelity  \\\n",
       "0                                  Equidistant nodes  0.817667   \n",
       "1                              Non-equidistant nodes  0.796667   \n",
       "2  Non-equidistant nodes, adjust pulse rate (1e-0...  0.783833   \n",
       "3  Non-equidistant nodes, adjust pulse rate (1e-0...  0.804333   \n",
       "\n",
       "   Base Resources Attempt  Fidelity Estimation Time  \n",
       "0                  180644                  3.577103  \n",
       "1                  313271                 14.684520  \n",
       "2                  312074                 14.625501  \n",
       "3                  311333                 28.466833  "
      ]
     },
     "execution_count": 53,
     "metadata": {},
     "output_type": "execute_result"
    }
   ],
   "source": [
    "data = {\n",
    "    'Experiment name': [\n",
    "        'Equidistant nodes', \n",
    "        'Non-equidistant nodes', \n",
    "        'Non-equidistant nodes, adjust pulse rate (1e-05, 1e-07)',\n",
    "        'Non-equidistant nodes, adjust pulse rate (1e-03, 1e-09)'],\n",
    "    'Fidelity': [\n",
    "        0.8176666666666667, \n",
    "        0.7966666666666667, \n",
    "        0.7838333333333333,\n",
    "        0.8043333333333332],\n",
    "    'Base Resources Attempt': [\n",
    "        180644, 313271, 312074, 311333],\n",
    "    'Fidelity Estimation Time': [\n",
    "        3.5771033333330187, \n",
    "        14.684520000006458, \n",
    "        14.625501000006386,\n",
    "        28.466833333345136]\n",
    "}\n",
    "\n",
    "df = pd.DataFrame(data)\n",
    "df"
   ]
  },
  {
   "cell_type": "code",
   "execution_count": 46,
   "metadata": {},
   "outputs": [
    {
     "name": "stdout",
     "output_type": "stream",
     "text": [
      "Generation 0G\n",
      "fidelity: 0.8196666666666667\n",
      "Base Resources Attempt: 178955\n",
      "Fidelity Estimation Time: 3.5787966666663524\n",
      "\n",
      "\n",
      "Generation 1G-Ss-Dp\n",
      "fidelity: 0.6646666666666666\n",
      "Base Resources Attempt: 693019\n",
      "Fidelity Estimation Time: 13.95895000001088\n",
      "\n",
      "\n",
      "Generation 2G-NonLocalCNOT\n",
      "fidelity: 0.24466666666666667\n",
      "Base Resources Attempt: 1264704\n",
      "Fidelity Estimation Time: 29.07743333335874\n",
      "\n",
      "\n",
      "Generation 1-2G-DirectedEncoded\n",
      "fidelity: 0.24833333333333332\n",
      "Base Resources Attempt: 690898\n",
      "Fidelity Estimation Time: 13.889330000010748\n",
      "\n",
      "\n",
      "Generation HG-END2ENDPurifiedEncoded\n",
      "fidelity: 0.4666666666666667\n",
      "Base Resources Attempt: 11154\n",
      "Fidelity Estimation Time: 0.24849666666666453\n",
      "\n",
      "\n",
      "Generation 1-2G-DirectedEncoded-Perfect\n",
      "fidelity: 0.27599999999999997\n",
      "Base Resources Attempt: 692104\n",
      "Fidelity Estimation Time: 13.886480000010769\n",
      "\n",
      "\n",
      "Generation 2G-NonLocalCNOT-Perfect\n",
      "fidelity: 0.2495\n",
      "Base Resources Attempt: 1264243\n",
      "Fidelity Estimation Time: 29.173070000025593\n",
      "\n",
      "\n"
     ]
    }
   ],
   "source": [
    "# print all generation results\n",
    "for key in results.keys():\n",
    "    print(f'Generation {key}')\n",
    "    visualize(results[key])\n",
    "    print('\\n')"
   ]
  },
  {
   "cell_type": "code",
   "execution_count": null,
   "metadata": {},
   "outputs": [],
   "source": []
  }
 ],
 "metadata": {
  "kernelspec": {
   "display_name": "qwanta-env",
   "language": "python",
   "name": "python3"
  },
  "language_info": {
   "codemirror_mode": {
    "name": "ipython",
    "version": 3
   },
   "file_extension": ".py",
   "mimetype": "text/x-python",
   "name": "python",
   "nbconvert_exporter": "python",
   "pygments_lexer": "ipython3",
   "version": "3.10.12"
  },
  "orig_nbformat": 4,
  "vscode": {
   "interpreter": {
    "hash": "b40605a589045a6cb328da6a198dbb50f4704dae5bcc57d5726c1b78c7ff0d87"
   }
  }
 },
 "nbformat": 4,
 "nbformat_minor": 2
}
