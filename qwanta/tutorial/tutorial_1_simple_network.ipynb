{
 "cells": [
  {
   "cell_type": "code",
   "execution_count": 13,
   "metadata": {},
   "outputs": [],
   "source": [
    "%reload_ext autoreload\n",
    "%autoreload 2\n",
    "\n",
    "from qwanta import Tuner, QuantumNetwork, Configuration, Xperiment\n",
    "from qwanta import QuantumNetwork, Configuration, Xperiment, Tuner\n",
    "import pandas as pd\n",
    "import ast\n",
    "import numpy as np\n",
    "import networkx as nx\n",
    "from qwanta.Qubit import PhysicalQubit\n",
    "import seaborn as sns\n",
    "import matplotlib.pyplot as plt"
   ]
  },
  {
   "attachments": {},
   "cell_type": "markdown",
   "metadata": {},
   "source": [
    "### Define configuration and read the network timeline\n",
    "\n",
    "As of current implementation, the timeline should be format as in csv or excel file to let Xperiment to be able to read it.\n",
    "However, Xperiment is just a class wrapping that does the validation of the timeline and the network, so you can use any other format as long as you can read it and pass it to the Xperiment class."
   ]
  },
  {
   "cell_type": "code",
   "execution_count": 15,
   "metadata": {},
   "outputs": [],
   "source": [
    "# Hyperparameters\n",
    "\n",
    "loss = 0 # dB/km\n",
    "depo_prob = 0\n",
    "gate_error = 0 \n",
    "measurement_error = 0\n",
    "memory_time = np.inf # second\n",
    "\n",
    "num_hops = 2\n",
    "num_nodes = num_hops + 1\n",
    "\n",
    "node_info = {f'Node {i}': {'coordinate': (int(i*100), 0, 0)} for i in range(num_nodes)}\n",
    "edge_info = {\n",
    "    (f'Node {i}', f'Node {i+1}'): {\n",
    "    'connection-type': 'Space',\n",
    "    'depolarlizing error': [1 - depo_prob, depo_prob/3, depo_prob/3, depo_prob/3],\n",
    "    'loss': loss,\n",
    "    'light speed': 300000,\n",
    "    'Pulse rate': 0.0001,\n",
    "    f'Node {i}':{\n",
    "        'gate error': gate_error,\n",
    "        'measurement error': measurement_error,\n",
    "        'memory function': memory_time\n",
    "    },\n",
    "    f'Node {i+1}':{\n",
    "        'gate error': gate_error,\n",
    "        'measurement error': measurement_error,\n",
    "        'memory function': memory_time\n",
    "    },\n",
    "    }\n",
    "for i in range(num_hops)}\n",
    "\n",
    "exps = Xperiment(\n",
    "    timelines_path = 'network/exper_id3_selectedStats_2hops.xlsx',\n",
    "    nodes_info_exp = node_info,\n",
    "    edges_info_exp = edge_info,\n",
    "    gate_error = gate_error,\n",
    "    measurement_error = measurement_error,\n",
    "    memory_time = memory_time\n",
    ")"
   ]
  },
  {
   "attachments": {},
   "cell_type": "markdown",
   "metadata": {},
   "source": [
    "### To validate the experiment configuration, and network topology\n",
    "\n",
    "You can validate the experiment configuration and network topology by running the following command. \n",
    "If vis is set to True, the network topology will be visualized using pyvis library, you could see the network topology in the browser using the generated html file.\n",
    "If get_table is set to True, the network topology will be printed in table format show the summary of validation.\n",
    "If show_message is set to True, the validation message will be printed."
   ]
  },
  {
   "cell_type": "code",
   "execution_count": 16,
   "metadata": {},
   "outputs": [
    {
     "data": {
      "text/html": [
       "<style type=\"text/css\">\n",
       "#T_33ce0 th {\n",
       "  text-align: left;\n",
       "}\n",
       "#T_33ce0_row0_col0, #T_33ce0_row1_col0, #T_33ce0_row2_col0, #T_33ce0_row3_col0, #T_33ce0_row4_col0, #T_33ce0_row5_col0, #T_33ce0_row6_col0 {\n",
       "  text-align: left;\n",
       "}\n",
       "#T_33ce0_row0_col1, #T_33ce0_row0_col2, #T_33ce0_row0_col3, #T_33ce0_row0_col4, #T_33ce0_row0_col5, #T_33ce0_row0_col6, #T_33ce0_row0_col7, #T_33ce0_row1_col1, #T_33ce0_row1_col2, #T_33ce0_row1_col3, #T_33ce0_row1_col4, #T_33ce0_row1_col5, #T_33ce0_row1_col6, #T_33ce0_row1_col7, #T_33ce0_row2_col1, #T_33ce0_row2_col2, #T_33ce0_row2_col3, #T_33ce0_row2_col4, #T_33ce0_row2_col5, #T_33ce0_row2_col6, #T_33ce0_row2_col7, #T_33ce0_row3_col1, #T_33ce0_row3_col2, #T_33ce0_row3_col3, #T_33ce0_row3_col4, #T_33ce0_row3_col5, #T_33ce0_row3_col6, #T_33ce0_row3_col7, #T_33ce0_row4_col1, #T_33ce0_row4_col2, #T_33ce0_row4_col3, #T_33ce0_row4_col4, #T_33ce0_row4_col5, #T_33ce0_row4_col6, #T_33ce0_row4_col7, #T_33ce0_row5_col1, #T_33ce0_row5_col2, #T_33ce0_row5_col3, #T_33ce0_row5_col4, #T_33ce0_row5_col5, #T_33ce0_row5_col6, #T_33ce0_row5_col7, #T_33ce0_row6_col1, #T_33ce0_row6_col2, #T_33ce0_row6_col3, #T_33ce0_row6_col4, #T_33ce0_row6_col5, #T_33ce0_row6_col6, #T_33ce0_row6_col7 {\n",
       "  text-align: left;\n",
       "  color: green;\n",
       "}\n",
       "</style>\n",
       "<table id=\"T_33ce0\">\n",
       "  <thead>\n",
       "    <tr>\n",
       "      <th class=\"blank level0\" >&nbsp;</th>\n",
       "      <th id=\"T_33ce0_level0_col0\" class=\"col_heading level0 col0\" >Experiment</th>\n",
       "      <th id=\"T_33ce0_level0_col1\" class=\"col_heading level0 col1\" >Resource-reachable</th>\n",
       "      <th id=\"T_33ce0_level0_col2\" class=\"col_heading level0 col2\" >loss</th>\n",
       "      <th id=\"T_33ce0_level0_col3\" class=\"col_heading level0 col3\" >depolarizing error</th>\n",
       "      <th id=\"T_33ce0_level0_col4\" class=\"col_heading level0 col4\" >gate error</th>\n",
       "      <th id=\"T_33ce0_level0_col5\" class=\"col_heading level0 col5\" >memory error</th>\n",
       "      <th id=\"T_33ce0_level0_col6\" class=\"col_heading level0 col6\" >measurement error</th>\n",
       "      <th id=\"T_33ce0_level0_col7\" class=\"col_heading level0 col7\" >Network</th>\n",
       "    </tr>\n",
       "  </thead>\n",
       "  <tbody>\n",
       "    <tr>\n",
       "      <th id=\"T_33ce0_level0_row0\" class=\"row_heading level0 row0\" >0</th>\n",
       "      <td id=\"T_33ce0_row0_col0\" class=\"data row0 col0\" >0G</td>\n",
       "      <td id=\"T_33ce0_row0_col1\" class=\"data row0 col1\" >PASSED</td>\n",
       "      <td id=\"T_33ce0_row0_col2\" class=\"data row0 col2\" >PASSED</td>\n",
       "      <td id=\"T_33ce0_row0_col3\" class=\"data row0 col3\" >PASSED</td>\n",
       "      <td id=\"T_33ce0_row0_col4\" class=\"data row0 col4\" >PASSED</td>\n",
       "      <td id=\"T_33ce0_row0_col5\" class=\"data row0 col5\" >PASSED</td>\n",
       "      <td id=\"T_33ce0_row0_col6\" class=\"data row0 col6\" >PASSED</td>\n",
       "      <td id=\"T_33ce0_row0_col7\" class=\"data row0 col7\" >PASSED</td>\n",
       "    </tr>\n",
       "    <tr>\n",
       "      <th id=\"T_33ce0_level0_row1\" class=\"row_heading level0 row1\" >1</th>\n",
       "      <td id=\"T_33ce0_row1_col0\" class=\"data row1 col0\" >1G-Ss-Dp</td>\n",
       "      <td id=\"T_33ce0_row1_col1\" class=\"data row1 col1\" >PASSED</td>\n",
       "      <td id=\"T_33ce0_row1_col2\" class=\"data row1 col2\" >PASSED</td>\n",
       "      <td id=\"T_33ce0_row1_col3\" class=\"data row1 col3\" >PASSED</td>\n",
       "      <td id=\"T_33ce0_row1_col4\" class=\"data row1 col4\" >PASSED</td>\n",
       "      <td id=\"T_33ce0_row1_col5\" class=\"data row1 col5\" >PASSED</td>\n",
       "      <td id=\"T_33ce0_row1_col6\" class=\"data row1 col6\" >PASSED</td>\n",
       "      <td id=\"T_33ce0_row1_col7\" class=\"data row1 col7\" >PASSED</td>\n",
       "    </tr>\n",
       "    <tr>\n",
       "      <th id=\"T_33ce0_level0_row2\" class=\"row_heading level0 row2\" >2</th>\n",
       "      <td id=\"T_33ce0_row2_col0\" class=\"data row2 col0\" >2G-NonLocalCNOT</td>\n",
       "      <td id=\"T_33ce0_row2_col1\" class=\"data row2 col1\" >PASSED</td>\n",
       "      <td id=\"T_33ce0_row2_col2\" class=\"data row2 col2\" >PASSED</td>\n",
       "      <td id=\"T_33ce0_row2_col3\" class=\"data row2 col3\" >PASSED</td>\n",
       "      <td id=\"T_33ce0_row2_col4\" class=\"data row2 col4\" >PASSED</td>\n",
       "      <td id=\"T_33ce0_row2_col5\" class=\"data row2 col5\" >PASSED</td>\n",
       "      <td id=\"T_33ce0_row2_col6\" class=\"data row2 col6\" >PASSED</td>\n",
       "      <td id=\"T_33ce0_row2_col7\" class=\"data row2 col7\" >PASSED</td>\n",
       "    </tr>\n",
       "    <tr>\n",
       "      <th id=\"T_33ce0_level0_row3\" class=\"row_heading level0 row3\" >3</th>\n",
       "      <td id=\"T_33ce0_row3_col0\" class=\"data row3 col0\" >1-2G-DirectedEncoded</td>\n",
       "      <td id=\"T_33ce0_row3_col1\" class=\"data row3 col1\" >PASSED</td>\n",
       "      <td id=\"T_33ce0_row3_col2\" class=\"data row3 col2\" >PASSED</td>\n",
       "      <td id=\"T_33ce0_row3_col3\" class=\"data row3 col3\" >PASSED</td>\n",
       "      <td id=\"T_33ce0_row3_col4\" class=\"data row3 col4\" >PASSED</td>\n",
       "      <td id=\"T_33ce0_row3_col5\" class=\"data row3 col5\" >PASSED</td>\n",
       "      <td id=\"T_33ce0_row3_col6\" class=\"data row3 col6\" >PASSED</td>\n",
       "      <td id=\"T_33ce0_row3_col7\" class=\"data row3 col7\" >PASSED</td>\n",
       "    </tr>\n",
       "    <tr>\n",
       "      <th id=\"T_33ce0_level0_row4\" class=\"row_heading level0 row4\" >4</th>\n",
       "      <td id=\"T_33ce0_row4_col0\" class=\"data row4 col0\" >HG-END2ENDPurifiedEncoded</td>\n",
       "      <td id=\"T_33ce0_row4_col1\" class=\"data row4 col1\" >PASSED</td>\n",
       "      <td id=\"T_33ce0_row4_col2\" class=\"data row4 col2\" >PASSED</td>\n",
       "      <td id=\"T_33ce0_row4_col3\" class=\"data row4 col3\" >PASSED</td>\n",
       "      <td id=\"T_33ce0_row4_col4\" class=\"data row4 col4\" >PASSED</td>\n",
       "      <td id=\"T_33ce0_row4_col5\" class=\"data row4 col5\" >PASSED</td>\n",
       "      <td id=\"T_33ce0_row4_col6\" class=\"data row4 col6\" >PASSED</td>\n",
       "      <td id=\"T_33ce0_row4_col7\" class=\"data row4 col7\" >PASSED</td>\n",
       "    </tr>\n",
       "    <tr>\n",
       "      <th id=\"T_33ce0_level0_row5\" class=\"row_heading level0 row5\" >5</th>\n",
       "      <td id=\"T_33ce0_row5_col0\" class=\"data row5 col0\" >1-2G-DirectedEncoded-Perfect</td>\n",
       "      <td id=\"T_33ce0_row5_col1\" class=\"data row5 col1\" >PASSED</td>\n",
       "      <td id=\"T_33ce0_row5_col2\" class=\"data row5 col2\" >PASSED</td>\n",
       "      <td id=\"T_33ce0_row5_col3\" class=\"data row5 col3\" >PASSED</td>\n",
       "      <td id=\"T_33ce0_row5_col4\" class=\"data row5 col4\" >PASSED</td>\n",
       "      <td id=\"T_33ce0_row5_col5\" class=\"data row5 col5\" >PASSED</td>\n",
       "      <td id=\"T_33ce0_row5_col6\" class=\"data row5 col6\" >PASSED</td>\n",
       "      <td id=\"T_33ce0_row5_col7\" class=\"data row5 col7\" >PASSED</td>\n",
       "    </tr>\n",
       "    <tr>\n",
       "      <th id=\"T_33ce0_level0_row6\" class=\"row_heading level0 row6\" >6</th>\n",
       "      <td id=\"T_33ce0_row6_col0\" class=\"data row6 col0\" >2G-NonLocalCNOT-Perfect</td>\n",
       "      <td id=\"T_33ce0_row6_col1\" class=\"data row6 col1\" >PASSED</td>\n",
       "      <td id=\"T_33ce0_row6_col2\" class=\"data row6 col2\" >PASSED</td>\n",
       "      <td id=\"T_33ce0_row6_col3\" class=\"data row6 col3\" >PASSED</td>\n",
       "      <td id=\"T_33ce0_row6_col4\" class=\"data row6 col4\" >PASSED</td>\n",
       "      <td id=\"T_33ce0_row6_col5\" class=\"data row6 col5\" >PASSED</td>\n",
       "      <td id=\"T_33ce0_row6_col6\" class=\"data row6 col6\" >PASSED</td>\n",
       "      <td id=\"T_33ce0_row6_col7\" class=\"data row6 col7\" >PASSED</td>\n",
       "    </tr>\n",
       "  </tbody>\n",
       "</table>\n"
      ],
      "text/plain": [
       "<pandas.io.formats.style.Styler at 0x1fc82a26e20>"
      ]
     },
     "execution_count": 16,
     "metadata": {},
     "output_type": "execute_result"
    }
   ],
   "source": [
    "exps.validate(get_table=True, vis=True)"
   ]
  },
  {
   "attachments": {},
   "cell_type": "markdown",
   "metadata": {},
   "source": [
    "### To run the experiment\n",
    "You could run the experiment by running the following command.\n",
    "Set save_result to True to save the experiment result to the experiment result folder."
   ]
  },
  {
   "cell_type": "code",
   "execution_count": 17,
   "metadata": {},
   "outputs": [],
   "source": [
    "results = exps.execute()"
   ]
  },
  {
   "attachments": {},
   "cell_type": "markdown",
   "metadata": {},
   "source": [
    "### Let us see the result of 0G experiment\n",
    "The result dictionary contains the following keys:"
   ]
  },
  {
   "cell_type": "code",
   "execution_count": 30,
   "metadata": {},
   "outputs": [
    {
     "name": "stdout",
     "output_type": "stream",
     "text": [
      "numPhysicalBuffer\n",
      "numInternalEncodingBuffer\n",
      "numInternalDetectingBuffer\n",
      "numInternalInterfaceBuffer\n",
      "memory_function\n",
      "gate_error\n",
      "measurement_error\n",
      "timeline\n",
      "experiment\n",
      "light_speed_in_fiber\n",
      "message\n",
      "g\n",
      "result_path\n",
      "label_recorded\n",
      "collectFidelityHistory\n",
      "simulation_time\n",
      "coor_system\n",
      "nodes_info\n",
      "NetworkTopology\n",
      "throughtputEdges\n",
      "fidelity\n",
      "Resources Produced\n",
      "Base Resources Attempt\n",
      "Resource Used in Fidelity Estimation\n",
      "Time used\n",
      "Fidelity Estimation Time\n",
      "Fidelity History\n",
      "Qubits waiting time\n",
      "Commutation inforamtion\n",
      "Simulation log\n"
     ]
    }
   ],
   "source": [
    "for key in results['0G'].keys():\n",
    "    print(key)"
   ]
  },
  {
   "cell_type": "code",
   "execution_count": 25,
   "metadata": {},
   "outputs": [],
   "source": [
    "def visualize(result):\n",
    "    to_print = ['fidelity', 'simulation_time', 'Resources Produced', 'Base Resources Attempt', 'Resource Used in Fidelity Estimation', 'Time used', 'Fidelity Estimation Time']\n",
    "    for key in to_print:\n",
    "        print(f'{key}: {result[key]}')\n"
   ]
  },
  {
   "cell_type": "code",
   "execution_count": 26,
   "metadata": {},
   "outputs": [
    {
     "name": "stdout",
     "output_type": "stream",
     "text": [
      "fidelity: 1.0\n",
      "simulation_time: None\n",
      "Resources Produced: {'Node 0-Node 1': {'Physical': 9004}, 'Node 1-Node 2': {'Physical': 9004}, 'Node 0-Node 2': {'k': 9001}}\n",
      "Base Resources Attempt: 18020\n",
      "Resource Used in Fidelity Estimation: 9000\n",
      "Time used: 0.900999999999917\n",
      "Fidelity Estimation Time: 0.900899999999917\n"
     ]
    }
   ],
   "source": [
    "visualize(results['0G'])"
   ]
  }
 ],
 "metadata": {
  "kernelspec": {
   "display_name": "qwanta-env",
   "language": "python",
   "name": "python3"
  },
  "language_info": {
   "codemirror_mode": {
    "name": "ipython",
    "version": 3
   },
   "file_extension": ".py",
   "mimetype": "text/x-python",
   "name": "python",
   "nbconvert_exporter": "python",
   "pygments_lexer": "ipython3",
   "version": "3.9.7"
  },
  "orig_nbformat": 4,
  "vscode": {
   "interpreter": {
    "hash": "b40605a589045a6cb328da6a198dbb50f4704dae5bcc57d5726c1b78c7ff0d87"
   }
  }
 },
 "nbformat": 4,
 "nbformat_minor": 2
}
